{
  "cells": [
    {
      "cell_type": "code",
      "execution_count": null,
      "metadata": {
        "colab": {
          "background_save": true,
          "base_uri": "https://localhost:8080/"
        },
        "id": "v6eEvWUR7SX9",
        "outputId": "a13246f2-5726-45ec-a959-1d62910d3e73"
      },
      "outputs": [
        {
          "name": "stdout",
          "output_type": "stream",
          "text": [
            "\n",
            "--- Día 1 ---\n"
          ]
        }
      ],
      "source": [
        "import pandas as pd\n",
        "import matplotlib.pyplot as plt\n",
        "\n",
        "# Creamos una lista vacía para almacenar los datos\n",
        "lista_datos = []\n",
        "\n",
        "# Definimos la función para ingresar los datos\n",
        "def ingresar_datos():\n",
        "    while True:\n",
        "        try:\n",
        "            dia = int(input(\"Ingrese el día de la medición: \"))\n",
        "            abundancia = float(input(\"Ingrese la abundancia de cianobacterias: \"))\n",
        "            biomasa = float(input(\"Ingrese la biomasa de cianobacterias: \"))\n",
        "            absorbancia = float(input(\"Ingrese la densidad óptica (absorbancia): \"))\n",
        "            break\n",
        "        except ValueError:\n",
        "            print(\"Error: Por favor, ingrese un número válido.\")\n",
        "\n",
        "    return dia, abundancia, biomasa, absorbancia\n",
        "\n",
        "# Definimos la función para actualizar los datos y graficar\n",
        "def actualizar_datos(dia, abundancia, biomasa, absorbancia):\n",
        "    global lista_datos\n",
        "    lista_datos.append({'Día': dia, 'Abundancia': abundancia, 'Biomasa': biomasa, 'Absorbancia': absorbancia})\n",
        "\n",
        "    # Convertimos la lista de datos en un DataFrame\n",
        "    datos = pd.DataFrame(lista_datos)\n",
        "\n",
        "    # Graficamos la curva de crecimiento de abundancia\n",
        "    plt.figure(figsize=(10, 6))\n",
        "    plt.subplot(2, 2, 1)\n",
        "    plt.plot(datos['Día'], datos['Abundancia'], marker='o', color='blue')\n",
        "    plt.xlabel('Día')\n",
        "    plt.ylabel('Abundancia de cianobacterias')\n",
        "    plt.title('Curva de Crecimiento de Abundancia')\n",
        "\n",
        "    # Graficamos la curva de crecimiento de biomasa\n",
        "    plt.subplot(2, 2, 2)\n",
        "    plt.plot(datos['Día'], datos['Biomasa'], marker='o', color='green')\n",
        "    plt.xlabel('Día')\n",
        "    plt.ylabel('Biomasa de cianobacterias')\n",
        "    plt.title('Curva de Crecimiento de Biomasa')\n",
        "\n",
        "    # Graficamos la curva de absorbancia\n",
        "    plt.subplot(2, 2, 3)\n",
        "    plt.plot(datos['Día'], datos['Absorbancia'], marker='o', color='red')\n",
        "    plt.xlabel('Día')\n",
        "    plt.ylabel('Absorbancia')\n",
        "    plt.title('Curva de Absorbancia')\n",
        "\n",
        "    plt.tight_layout()\n",
        "    plt.show()\n",
        "\n",
        "# Simulamos el ingreso de datos durante un periodo de 30 días\n",
        "for dia in range(1, 31):\n",
        "    print(f\"\\n--- Día {dia} ---\")\n",
        "    dia, abundancia, biomasa, absorbancia = ingresar_datos()\n",
        "    actualizar_datos(dia, abundancia, biomasa, absorbancia)\n"
      ]
    }
  ],
  "metadata": {
    "colab": {
      "provenance": []
    },
    "kernelspec": {
      "display_name": "Python 3",
      "name": "python3"
    },
    "language_info": {
      "name": "python"
    }
  },
  "nbformat": 4,
  "nbformat_minor": 0
}