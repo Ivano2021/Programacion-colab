{
  "nbformat": 4,
  "nbformat_minor": 0,
  "metadata": {
    "colab": {
      "provenance": []
    },
    "kernelspec": {
      "name": "python3",
      "display_name": "Python 3"
    },
    "language_info": {
      "name": "python"
    }
  },
  "cells": [
    {
      "cell_type": "code",
      "source": [
        "pip install pyspark"
      ],
      "metadata": {
        "colab": {
          "base_uri": "https://localhost:8080/"
        },
        "collapsed": true,
        "id": "kNl3zkChoNon",
        "outputId": "1c2c05b0-4385-424d-83c2-c33f66df6cd5"
      },
      "execution_count": null,
      "outputs": [
        {
          "output_type": "stream",
          "name": "stdout",
          "text": [
            "Requirement already satisfied: pyspark in /usr/local/lib/python3.10/dist-packages (3.5.3)\n",
            "Requirement already satisfied: py4j==0.10.9.7 in /usr/local/lib/python3.10/dist-packages (from pyspark) (0.10.9.7)\n"
          ]
        }
      ]
    },
    {
      "cell_type": "code",
      "source": [
        "#pip install opendatasets"
      ],
      "metadata": {
        "collapsed": true,
        "colab": {
          "base_uri": "https://localhost:8080/"
        },
        "id": "dkoeff_1ty_N",
        "outputId": "3e9a5a21-4db5-4afc-f834-af027150b12e"
      },
      "execution_count": null,
      "outputs": [
        {
          "output_type": "stream",
          "name": "stdout",
          "text": [
            "Collecting opendatasets\n",
            "  Downloading opendatasets-0.1.22-py3-none-any.whl.metadata (9.2 kB)\n",
            "Requirement already satisfied: tqdm in /usr/local/lib/python3.10/dist-packages (from opendatasets) (4.66.6)\n",
            "Requirement already satisfied: kaggle in /usr/local/lib/python3.10/dist-packages (from opendatasets) (1.6.17)\n",
            "Requirement already satisfied: click in /usr/local/lib/python3.10/dist-packages (from opendatasets) (8.1.7)\n",
            "Requirement already satisfied: six>=1.10 in /usr/local/lib/python3.10/dist-packages (from kaggle->opendatasets) (1.16.0)\n",
            "Requirement already satisfied: certifi>=2023.7.22 in /usr/local/lib/python3.10/dist-packages (from kaggle->opendatasets) (2024.8.30)\n",
            "Requirement already satisfied: python-dateutil in /usr/local/lib/python3.10/dist-packages (from kaggle->opendatasets) (2.8.2)\n",
            "Requirement already satisfied: requests in /usr/local/lib/python3.10/dist-packages (from kaggle->opendatasets) (2.32.3)\n",
            "Requirement already satisfied: python-slugify in /usr/local/lib/python3.10/dist-packages (from kaggle->opendatasets) (8.0.4)\n",
            "Requirement already satisfied: urllib3 in /usr/local/lib/python3.10/dist-packages (from kaggle->opendatasets) (2.2.3)\n",
            "Requirement already satisfied: bleach in /usr/local/lib/python3.10/dist-packages (from kaggle->opendatasets) (6.2.0)\n",
            "Requirement already satisfied: webencodings in /usr/local/lib/python3.10/dist-packages (from bleach->kaggle->opendatasets) (0.5.1)\n",
            "Requirement already satisfied: text-unidecode>=1.3 in /usr/local/lib/python3.10/dist-packages (from python-slugify->kaggle->opendatasets) (1.3)\n",
            "Requirement already satisfied: charset-normalizer<4,>=2 in /usr/local/lib/python3.10/dist-packages (from requests->kaggle->opendatasets) (3.4.0)\n",
            "Requirement already satisfied: idna<4,>=2.5 in /usr/local/lib/python3.10/dist-packages (from requests->kaggle->opendatasets) (3.10)\n",
            "Downloading opendatasets-0.1.22-py3-none-any.whl (15 kB)\n",
            "Installing collected packages: opendatasets\n",
            "Successfully installed opendatasets-0.1.22\n"
          ]
        }
      ]
    },
    {
      "cell_type": "code",
      "source": [
        "from pyspark.sql import SparkSession\n",
        "from pyspark import SparkContext\n",
        "import pyspark.sql.functions as F\n",
        "from pyspark.sql.functions import when\n",
        "import numpy as np\n",
        "from pyspark.sql.functions import col, count\n",
        "import pandas as pd\n",
        "import matplotlib.pyplot as plt\n",
        "import seaborn as sns\n",
        "from scipy.stats import norm\n",
        "#import opendatasets as od"
      ],
      "metadata": {
        "id": "L-qTUUKMojkP"
      },
      "execution_count": null,
      "outputs": []
    },
    {
      "cell_type": "code",
      "source": [
        "# Define la URL del clúster de Spark\n",
        "spark_cluster_url = \"spark://localhost:7077\""
      ],
      "metadata": {
        "id": "l7I1dlLrv4NX"
      },
      "execution_count": null,
      "outputs": []
    },
    {
      "cell_type": "code",
      "source": [
        "mi_sesion = SparkSession \\\n",
        "            .builder \\\n",
        "            .appName(\"Count Lines in HDFS\") \\\n",
        "            .master(spark_cluster_url) \\\n",
        "            .getOrCreate()"
      ],
      "metadata": {
        "id": "nLSDQ3nYomDd",
        "colab": {
          "base_uri": "https://localhost:8080/",
          "height": 790
        },
        "outputId": "44332951-333c-42a9-cd6e-0d5aecb6ea0b",
        "collapsed": true
      },
      "execution_count": null,
      "outputs": [
        {
          "output_type": "error",
          "ename": "Py4JJavaError",
          "evalue": "An error occurred while calling o45.applyModifiableSettings.\n: java.lang.IllegalStateException: LiveListenerBus is stopped.\n\tat org.apache.spark.scheduler.LiveListenerBus.addToQueue(LiveListenerBus.scala:92)\n\tat org.apache.spark.scheduler.LiveListenerBus.addToStatusQueue(LiveListenerBus.scala:75)\n\tat org.apache.spark.sql.internal.SharedState.<init>(SharedState.scala:115)\n\tat org.apache.spark.sql.SparkSession.$anonfun$sharedState$1(SparkSession.scala:143)\n\tat scala.Option.getOrElse(Option.scala:189)\n\tat org.apache.spark.sql.SparkSession.sharedState$lzycompute(SparkSession.scala:143)\n\tat org.apache.spark.sql.SparkSession.sharedState(SparkSession.scala:142)\n\tat org.apache.spark.sql.SparkSession.$anonfun$sessionState$2(SparkSession.scala:162)\n\tat scala.Option.getOrElse(Option.scala:189)\n\tat org.apache.spark.sql.SparkSession.sessionState$lzycompute(SparkSession.scala:160)\n\tat org.apache.spark.sql.SparkSession.sessionState(SparkSession.scala:157)\n\tat org.apache.spark.sql.SparkSession$.conf$lzycompute$1(SparkSession.scala:1213)\n\tat org.apache.spark.sql.SparkSession$.conf$1(SparkSession.scala:1213)\n\tat org.apache.spark.sql.SparkSession$.applyModifiableSettings(SparkSession.scala:1216)\n\tat java.base/jdk.internal.reflect.NativeMethodAccessorImpl.invoke0(Native Method)\n\tat java.base/jdk.internal.reflect.NativeMethodAccessorImpl.invoke(NativeMethodAccessorImpl.java:62)\n\tat java.base/jdk.internal.reflect.DelegatingMethodAccessorImpl.invoke(DelegatingMethodAccessorImpl.java:43)\n\tat java.base/java.lang.reflect.Method.invoke(Method.java:566)\n\tat py4j.reflection.MethodInvoker.invoke(MethodInvoker.java:244)\n\tat py4j.reflection.ReflectionEngine.invoke(ReflectionEngine.java:374)\n\tat py4j.Gateway.invoke(Gateway.java:282)\n\tat py4j.commands.AbstractCommand.invokeMethod(AbstractCommand.java:132)\n\tat py4j.commands.CallCommand.execute(CallCommand.java:79)\n\tat py4j.ClientServerConnection.waitForCommands(ClientServerConnection.java:182)\n\tat py4j.ClientServerConnection.run(ClientServerConnection.java:106)\n\tat java.base/java.lang.Thread.run(Thread.java:829)\n",
          "traceback": [
            "\u001b[0;31m---------------------------------------------------------------------------\u001b[0m",
            "\u001b[0;31mPy4JJavaError\u001b[0m                             Traceback (most recent call last)",
            "\u001b[0;32m<ipython-input-16-484b6855ea68>\u001b[0m in \u001b[0;36m<cell line: 1>\u001b[0;34m()\u001b[0m\n\u001b[1;32m      3\u001b[0m             \u001b[0;34m.\u001b[0m\u001b[0mappName\u001b[0m\u001b[0;34m(\u001b[0m\u001b[0;34m\"Count Lines in HDFS\"\u001b[0m\u001b[0;34m)\u001b[0m\u001b[0;31m \u001b[0m\u001b[0;31m\\\u001b[0m\u001b[0;34m\u001b[0m\u001b[0;34m\u001b[0m\u001b[0m\n\u001b[1;32m      4\u001b[0m             \u001b[0;34m.\u001b[0m\u001b[0mmaster\u001b[0m\u001b[0;34m(\u001b[0m\u001b[0mspark_cluster_url\u001b[0m\u001b[0;34m)\u001b[0m\u001b[0;31m \u001b[0m\u001b[0;31m\\\u001b[0m\u001b[0;34m\u001b[0m\u001b[0;34m\u001b[0m\u001b[0m\n\u001b[0;32m----> 5\u001b[0;31m             \u001b[0;34m.\u001b[0m\u001b[0mgetOrCreate\u001b[0m\u001b[0;34m(\u001b[0m\u001b[0;34m)\u001b[0m\u001b[0;34m\u001b[0m\u001b[0;34m\u001b[0m\u001b[0m\n\u001b[0m",
            "\u001b[0;32m/usr/local/lib/python3.10/dist-packages/pyspark/sql/session.py\u001b[0m in \u001b[0;36mgetOrCreate\u001b[0;34m(self)\u001b[0m\n\u001b[1;32m    502\u001b[0m                     getattr(\n\u001b[1;32m    503\u001b[0m                         \u001b[0mgetattr\u001b[0m\u001b[0;34m(\u001b[0m\u001b[0msession\u001b[0m\u001b[0;34m.\u001b[0m\u001b[0m_jvm\u001b[0m\u001b[0;34m,\u001b[0m \u001b[0;34m\"SparkSession$\"\u001b[0m\u001b[0;34m)\u001b[0m\u001b[0;34m,\u001b[0m \u001b[0;34m\"MODULE$\"\u001b[0m\u001b[0;34m\u001b[0m\u001b[0;34m\u001b[0m\u001b[0m\n\u001b[0;32m--> 504\u001b[0;31m                     ).applyModifiableSettings(session._jsparkSession, self._options)\n\u001b[0m\u001b[1;32m    505\u001b[0m                 \u001b[0;32mreturn\u001b[0m \u001b[0msession\u001b[0m\u001b[0;34m\u001b[0m\u001b[0;34m\u001b[0m\u001b[0m\n\u001b[1;32m    506\u001b[0m \u001b[0;34m\u001b[0m\u001b[0m\n",
            "\u001b[0;32m/usr/local/lib/python3.10/dist-packages/py4j/java_gateway.py\u001b[0m in \u001b[0;36m__call__\u001b[0;34m(self, *args)\u001b[0m\n\u001b[1;32m   1320\u001b[0m \u001b[0;34m\u001b[0m\u001b[0m\n\u001b[1;32m   1321\u001b[0m         \u001b[0manswer\u001b[0m \u001b[0;34m=\u001b[0m \u001b[0mself\u001b[0m\u001b[0;34m.\u001b[0m\u001b[0mgateway_client\u001b[0m\u001b[0;34m.\u001b[0m\u001b[0msend_command\u001b[0m\u001b[0;34m(\u001b[0m\u001b[0mcommand\u001b[0m\u001b[0;34m)\u001b[0m\u001b[0;34m\u001b[0m\u001b[0;34m\u001b[0m\u001b[0m\n\u001b[0;32m-> 1322\u001b[0;31m         return_value = get_return_value(\n\u001b[0m\u001b[1;32m   1323\u001b[0m             answer, self.gateway_client, self.target_id, self.name)\n\u001b[1;32m   1324\u001b[0m \u001b[0;34m\u001b[0m\u001b[0m\n",
            "\u001b[0;32m/usr/local/lib/python3.10/dist-packages/pyspark/errors/exceptions/captured.py\u001b[0m in \u001b[0;36mdeco\u001b[0;34m(*a, **kw)\u001b[0m\n\u001b[1;32m    177\u001b[0m     \u001b[0;32mdef\u001b[0m \u001b[0mdeco\u001b[0m\u001b[0;34m(\u001b[0m\u001b[0;34m*\u001b[0m\u001b[0ma\u001b[0m\u001b[0;34m:\u001b[0m \u001b[0mAny\u001b[0m\u001b[0;34m,\u001b[0m \u001b[0;34m**\u001b[0m\u001b[0mkw\u001b[0m\u001b[0;34m:\u001b[0m \u001b[0mAny\u001b[0m\u001b[0;34m)\u001b[0m \u001b[0;34m->\u001b[0m \u001b[0mAny\u001b[0m\u001b[0;34m:\u001b[0m\u001b[0;34m\u001b[0m\u001b[0;34m\u001b[0m\u001b[0m\n\u001b[1;32m    178\u001b[0m         \u001b[0;32mtry\u001b[0m\u001b[0;34m:\u001b[0m\u001b[0;34m\u001b[0m\u001b[0;34m\u001b[0m\u001b[0m\n\u001b[0;32m--> 179\u001b[0;31m             \u001b[0;32mreturn\u001b[0m \u001b[0mf\u001b[0m\u001b[0;34m(\u001b[0m\u001b[0;34m*\u001b[0m\u001b[0ma\u001b[0m\u001b[0;34m,\u001b[0m \u001b[0;34m**\u001b[0m\u001b[0mkw\u001b[0m\u001b[0;34m)\u001b[0m\u001b[0;34m\u001b[0m\u001b[0;34m\u001b[0m\u001b[0m\n\u001b[0m\u001b[1;32m    180\u001b[0m         \u001b[0;32mexcept\u001b[0m \u001b[0mPy4JJavaError\u001b[0m \u001b[0;32mas\u001b[0m \u001b[0me\u001b[0m\u001b[0;34m:\u001b[0m\u001b[0;34m\u001b[0m\u001b[0;34m\u001b[0m\u001b[0m\n\u001b[1;32m    181\u001b[0m             \u001b[0mconverted\u001b[0m \u001b[0;34m=\u001b[0m \u001b[0mconvert_exception\u001b[0m\u001b[0;34m(\u001b[0m\u001b[0me\u001b[0m\u001b[0;34m.\u001b[0m\u001b[0mjava_exception\u001b[0m\u001b[0;34m)\u001b[0m\u001b[0;34m\u001b[0m\u001b[0;34m\u001b[0m\u001b[0m\n",
            "\u001b[0;32m/usr/local/lib/python3.10/dist-packages/py4j/protocol.py\u001b[0m in \u001b[0;36mget_return_value\u001b[0;34m(answer, gateway_client, target_id, name)\u001b[0m\n\u001b[1;32m    324\u001b[0m             \u001b[0mvalue\u001b[0m \u001b[0;34m=\u001b[0m \u001b[0mOUTPUT_CONVERTER\u001b[0m\u001b[0;34m[\u001b[0m\u001b[0mtype\u001b[0m\u001b[0;34m]\u001b[0m\u001b[0;34m(\u001b[0m\u001b[0manswer\u001b[0m\u001b[0;34m[\u001b[0m\u001b[0;36m2\u001b[0m\u001b[0;34m:\u001b[0m\u001b[0;34m]\u001b[0m\u001b[0;34m,\u001b[0m \u001b[0mgateway_client\u001b[0m\u001b[0;34m)\u001b[0m\u001b[0;34m\u001b[0m\u001b[0;34m\u001b[0m\u001b[0m\n\u001b[1;32m    325\u001b[0m             \u001b[0;32mif\u001b[0m \u001b[0manswer\u001b[0m\u001b[0;34m[\u001b[0m\u001b[0;36m1\u001b[0m\u001b[0;34m]\u001b[0m \u001b[0;34m==\u001b[0m \u001b[0mREFERENCE_TYPE\u001b[0m\u001b[0;34m:\u001b[0m\u001b[0;34m\u001b[0m\u001b[0;34m\u001b[0m\u001b[0m\n\u001b[0;32m--> 326\u001b[0;31m                 raise Py4JJavaError(\n\u001b[0m\u001b[1;32m    327\u001b[0m                     \u001b[0;34m\"An error occurred while calling {0}{1}{2}.\\n\"\u001b[0m\u001b[0;34m.\u001b[0m\u001b[0;34m\u001b[0m\u001b[0;34m\u001b[0m\u001b[0m\n\u001b[1;32m    328\u001b[0m                     format(target_id, \".\", name), value)\n",
            "\u001b[0;31mPy4JJavaError\u001b[0m: An error occurred while calling o45.applyModifiableSettings.\n: java.lang.IllegalStateException: LiveListenerBus is stopped.\n\tat org.apache.spark.scheduler.LiveListenerBus.addToQueue(LiveListenerBus.scala:92)\n\tat org.apache.spark.scheduler.LiveListenerBus.addToStatusQueue(LiveListenerBus.scala:75)\n\tat org.apache.spark.sql.internal.SharedState.<init>(SharedState.scala:115)\n\tat org.apache.spark.sql.SparkSession.$anonfun$sharedState$1(SparkSession.scala:143)\n\tat scala.Option.getOrElse(Option.scala:189)\n\tat org.apache.spark.sql.SparkSession.sharedState$lzycompute(SparkSession.scala:143)\n\tat org.apache.spark.sql.SparkSession.sharedState(SparkSession.scala:142)\n\tat org.apache.spark.sql.SparkSession.$anonfun$sessionState$2(SparkSession.scala:162)\n\tat scala.Option.getOrElse(Option.scala:189)\n\tat org.apache.spark.sql.SparkSession.sessionState$lzycompute(SparkSession.scala:160)\n\tat org.apache.spark.sql.SparkSession.sessionState(SparkSession.scala:157)\n\tat org.apache.spark.sql.SparkSession$.conf$lzycompute$1(SparkSession.scala:1213)\n\tat org.apache.spark.sql.SparkSession$.conf$1(SparkSession.scala:1213)\n\tat org.apache.spark.sql.SparkSession$.applyModifiableSettings(SparkSession.scala:1216)\n\tat java.base/jdk.internal.reflect.NativeMethodAccessorImpl.invoke0(Native Method)\n\tat java.base/jdk.internal.reflect.NativeMethodAccessorImpl.invoke(NativeMethodAccessorImpl.java:62)\n\tat java.base/jdk.internal.reflect.DelegatingMethodAccessorImpl.invoke(DelegatingMethodAccessorImpl.java:43)\n\tat java.base/java.lang.reflect.Method.invoke(Method.java:566)\n\tat py4j.reflection.MethodInvoker.invoke(MethodInvoker.java:244)\n\tat py4j.reflection.ReflectionEngine.invoke(ReflectionEngine.java:374)\n\tat py4j.Gateway.invoke(Gateway.java:282)\n\tat py4j.commands.AbstractCommand.invokeMethod(AbstractCommand.java:132)\n\tat py4j.commands.CallCommand.execute(CallCommand.java:79)\n\tat py4j.ClientServerConnection.waitForCommands(ClientServerConnection.java:182)\n\tat py4j.ClientServerConnection.run(ClientServerConnection.java:106)\n\tat java.base/java.lang.Thread.run(Thread.java:829)\n"
          ]
        }
      ]
    },
    {
      "cell_type": "code",
      "source": [
        "SpContext = mi_sesion.sparkContext"
      ],
      "metadata": {
        "id": "FIgi5iY9op3l"
      },
      "execution_count": null,
      "outputs": []
    },
    {
      "cell_type": "code",
      "source": [
        "#abrir csv\n",
        "#datos = mi_sesion.read.csv('diabetes-health-indicators-dataset/diabetes_012_health_indicators_BRFSS2015.csv', header = True)"
      ],
      "metadata": {
        "id": "C7RNySPhulxa"
      },
      "execution_count": null,
      "outputs": []
    },
    {
      "cell_type": "code",
      "source": [
        "datos = mi_sesion.read.csv(\"diabetes.csv\", header = True, sep = \";\")"
      ],
      "metadata": {
        "id": "4odgIwgEos51",
        "collapsed": true,
        "colab": {
          "base_uri": "https://localhost:8080/",
          "height": 738
        },
        "outputId": "61188560-2eaa-43f7-914c-5fb65e7e72a3"
      },
      "execution_count": null,
      "outputs": [
        {
          "output_type": "error",
          "ename": "Py4JJavaError",
          "evalue": "An error occurred while calling o25.read.\n: java.lang.IllegalStateException: LiveListenerBus is stopped.\n\tat org.apache.spark.scheduler.LiveListenerBus.addToQueue(LiveListenerBus.scala:92)\n\tat org.apache.spark.scheduler.LiveListenerBus.addToStatusQueue(LiveListenerBus.scala:75)\n\tat org.apache.spark.sql.internal.SharedState.<init>(SharedState.scala:115)\n\tat org.apache.spark.sql.SparkSession.$anonfun$sharedState$1(SparkSession.scala:143)\n\tat scala.Option.getOrElse(Option.scala:189)\n\tat org.apache.spark.sql.SparkSession.sharedState$lzycompute(SparkSession.scala:143)\n\tat org.apache.spark.sql.SparkSession.sharedState(SparkSession.scala:142)\n\tat org.apache.spark.sql.SparkSession.$anonfun$sessionState$2(SparkSession.scala:162)\n\tat scala.Option.getOrElse(Option.scala:189)\n\tat org.apache.spark.sql.SparkSession.sessionState$lzycompute(SparkSession.scala:160)\n\tat org.apache.spark.sql.SparkSession.sessionState(SparkSession.scala:157)\n\tat org.apache.spark.sql.DataFrameReader.<init>(DataFrameReader.scala:699)\n\tat org.apache.spark.sql.SparkSession.read(SparkSession.scala:783)\n\tat java.base/jdk.internal.reflect.NativeMethodAccessorImpl.invoke0(Native Method)\n\tat java.base/jdk.internal.reflect.NativeMethodAccessorImpl.invoke(NativeMethodAccessorImpl.java:62)\n\tat java.base/jdk.internal.reflect.DelegatingMethodAccessorImpl.invoke(DelegatingMethodAccessorImpl.java:43)\n\tat java.base/java.lang.reflect.Method.invoke(Method.java:566)\n\tat py4j.reflection.MethodInvoker.invoke(MethodInvoker.java:244)\n\tat py4j.reflection.ReflectionEngine.invoke(ReflectionEngine.java:374)\n\tat py4j.Gateway.invoke(Gateway.java:282)\n\tat py4j.commands.AbstractCommand.invokeMethod(AbstractCommand.java:132)\n\tat py4j.commands.CallCommand.execute(CallCommand.java:79)\n\tat py4j.ClientServerConnection.waitForCommands(ClientServerConnection.java:182)\n\tat py4j.ClientServerConnection.run(ClientServerConnection.java:106)\n\tat java.base/java.lang.Thread.run(Thread.java:829)\n",
          "traceback": [
            "\u001b[0;31m---------------------------------------------------------------------------\u001b[0m",
            "\u001b[0;31mPy4JJavaError\u001b[0m                             Traceback (most recent call last)",
            "\u001b[0;32m<ipython-input-8-583fed3de7ac>\u001b[0m in \u001b[0;36m<cell line: 1>\u001b[0;34m()\u001b[0m\n\u001b[0;32m----> 1\u001b[0;31m \u001b[0mdatos\u001b[0m \u001b[0;34m=\u001b[0m \u001b[0mmi_sesion\u001b[0m\u001b[0;34m.\u001b[0m\u001b[0mread\u001b[0m\u001b[0;34m.\u001b[0m\u001b[0mcsv\u001b[0m\u001b[0;34m(\u001b[0m\u001b[0;34m\"diabetes.csv\"\u001b[0m\u001b[0;34m,\u001b[0m \u001b[0mheader\u001b[0m \u001b[0;34m=\u001b[0m \u001b[0;32mTrue\u001b[0m\u001b[0;34m,\u001b[0m \u001b[0msep\u001b[0m \u001b[0;34m=\u001b[0m \u001b[0;34m\";\"\u001b[0m\u001b[0;34m)\u001b[0m\u001b[0;34m\u001b[0m\u001b[0;34m\u001b[0m\u001b[0m\n\u001b[0m",
            "\u001b[0;32m/usr/local/lib/python3.10/dist-packages/pyspark/sql/session.py\u001b[0m in \u001b[0;36mread\u001b[0;34m(self)\u001b[0m\n\u001b[1;32m   1704\u001b[0m         \u001b[0;34m+\u001b[0m\u001b[0;34m-\u001b[0m\u001b[0;34m-\u001b[0m\u001b[0;34m-\u001b[0m\u001b[0;34m+\u001b[0m\u001b[0;34m-\u001b[0m\u001b[0;34m-\u001b[0m\u001b[0;34m-\u001b[0m\u001b[0;34m-\u001b[0m\u001b[0;34m-\u001b[0m\u001b[0;34m-\u001b[0m\u001b[0;34m-\u001b[0m\u001b[0;34m-\u001b[0m\u001b[0;34m-\u001b[0m\u001b[0;34m-\u001b[0m\u001b[0;34m-\u001b[0m\u001b[0;34m-\u001b[0m\u001b[0;34m+\u001b[0m\u001b[0;34m\u001b[0m\u001b[0;34m\u001b[0m\u001b[0m\n\u001b[1;32m   1705\u001b[0m         \"\"\"\n\u001b[0;32m-> 1706\u001b[0;31m         \u001b[0;32mreturn\u001b[0m \u001b[0mDataFrameReader\u001b[0m\u001b[0;34m(\u001b[0m\u001b[0mself\u001b[0m\u001b[0;34m)\u001b[0m\u001b[0;34m\u001b[0m\u001b[0;34m\u001b[0m\u001b[0m\n\u001b[0m\u001b[1;32m   1707\u001b[0m \u001b[0;34m\u001b[0m\u001b[0m\n\u001b[1;32m   1708\u001b[0m     \u001b[0;34m@\u001b[0m\u001b[0mproperty\u001b[0m\u001b[0;34m\u001b[0m\u001b[0;34m\u001b[0m\u001b[0m\n",
            "\u001b[0;32m/usr/local/lib/python3.10/dist-packages/pyspark/sql/readwriter.py\u001b[0m in \u001b[0;36m__init__\u001b[0;34m(self, spark)\u001b[0m\n\u001b[1;32m     68\u001b[0m \u001b[0;34m\u001b[0m\u001b[0m\n\u001b[1;32m     69\u001b[0m     \u001b[0;32mdef\u001b[0m \u001b[0m__init__\u001b[0m\u001b[0;34m(\u001b[0m\u001b[0mself\u001b[0m\u001b[0;34m,\u001b[0m \u001b[0mspark\u001b[0m\u001b[0;34m:\u001b[0m \u001b[0;34m\"SparkSession\"\u001b[0m\u001b[0;34m)\u001b[0m\u001b[0;34m:\u001b[0m\u001b[0;34m\u001b[0m\u001b[0;34m\u001b[0m\u001b[0m\n\u001b[0;32m---> 70\u001b[0;31m         \u001b[0mself\u001b[0m\u001b[0;34m.\u001b[0m\u001b[0m_jreader\u001b[0m \u001b[0;34m=\u001b[0m \u001b[0mspark\u001b[0m\u001b[0;34m.\u001b[0m\u001b[0m_jsparkSession\u001b[0m\u001b[0;34m.\u001b[0m\u001b[0mread\u001b[0m\u001b[0;34m(\u001b[0m\u001b[0;34m)\u001b[0m\u001b[0;34m\u001b[0m\u001b[0;34m\u001b[0m\u001b[0m\n\u001b[0m\u001b[1;32m     71\u001b[0m         \u001b[0mself\u001b[0m\u001b[0;34m.\u001b[0m\u001b[0m_spark\u001b[0m \u001b[0;34m=\u001b[0m \u001b[0mspark\u001b[0m\u001b[0;34m\u001b[0m\u001b[0;34m\u001b[0m\u001b[0m\n\u001b[1;32m     72\u001b[0m \u001b[0;34m\u001b[0m\u001b[0m\n",
            "\u001b[0;32m/usr/local/lib/python3.10/dist-packages/py4j/java_gateway.py\u001b[0m in \u001b[0;36m__call__\u001b[0;34m(self, *args)\u001b[0m\n\u001b[1;32m   1320\u001b[0m \u001b[0;34m\u001b[0m\u001b[0m\n\u001b[1;32m   1321\u001b[0m         \u001b[0manswer\u001b[0m \u001b[0;34m=\u001b[0m \u001b[0mself\u001b[0m\u001b[0;34m.\u001b[0m\u001b[0mgateway_client\u001b[0m\u001b[0;34m.\u001b[0m\u001b[0msend_command\u001b[0m\u001b[0;34m(\u001b[0m\u001b[0mcommand\u001b[0m\u001b[0;34m)\u001b[0m\u001b[0;34m\u001b[0m\u001b[0;34m\u001b[0m\u001b[0m\n\u001b[0;32m-> 1322\u001b[0;31m         return_value = get_return_value(\n\u001b[0m\u001b[1;32m   1323\u001b[0m             answer, self.gateway_client, self.target_id, self.name)\n\u001b[1;32m   1324\u001b[0m \u001b[0;34m\u001b[0m\u001b[0m\n",
            "\u001b[0;32m/usr/local/lib/python3.10/dist-packages/pyspark/errors/exceptions/captured.py\u001b[0m in \u001b[0;36mdeco\u001b[0;34m(*a, **kw)\u001b[0m\n\u001b[1;32m    177\u001b[0m     \u001b[0;32mdef\u001b[0m \u001b[0mdeco\u001b[0m\u001b[0;34m(\u001b[0m\u001b[0;34m*\u001b[0m\u001b[0ma\u001b[0m\u001b[0;34m:\u001b[0m \u001b[0mAny\u001b[0m\u001b[0;34m,\u001b[0m \u001b[0;34m**\u001b[0m\u001b[0mkw\u001b[0m\u001b[0;34m:\u001b[0m \u001b[0mAny\u001b[0m\u001b[0;34m)\u001b[0m \u001b[0;34m->\u001b[0m \u001b[0mAny\u001b[0m\u001b[0;34m:\u001b[0m\u001b[0;34m\u001b[0m\u001b[0;34m\u001b[0m\u001b[0m\n\u001b[1;32m    178\u001b[0m         \u001b[0;32mtry\u001b[0m\u001b[0;34m:\u001b[0m\u001b[0;34m\u001b[0m\u001b[0;34m\u001b[0m\u001b[0m\n\u001b[0;32m--> 179\u001b[0;31m             \u001b[0;32mreturn\u001b[0m \u001b[0mf\u001b[0m\u001b[0;34m(\u001b[0m\u001b[0;34m*\u001b[0m\u001b[0ma\u001b[0m\u001b[0;34m,\u001b[0m \u001b[0;34m**\u001b[0m\u001b[0mkw\u001b[0m\u001b[0;34m)\u001b[0m\u001b[0;34m\u001b[0m\u001b[0;34m\u001b[0m\u001b[0m\n\u001b[0m\u001b[1;32m    180\u001b[0m         \u001b[0;32mexcept\u001b[0m \u001b[0mPy4JJavaError\u001b[0m \u001b[0;32mas\u001b[0m \u001b[0me\u001b[0m\u001b[0;34m:\u001b[0m\u001b[0;34m\u001b[0m\u001b[0;34m\u001b[0m\u001b[0m\n\u001b[1;32m    181\u001b[0m             \u001b[0mconverted\u001b[0m \u001b[0;34m=\u001b[0m \u001b[0mconvert_exception\u001b[0m\u001b[0;34m(\u001b[0m\u001b[0me\u001b[0m\u001b[0;34m.\u001b[0m\u001b[0mjava_exception\u001b[0m\u001b[0;34m)\u001b[0m\u001b[0;34m\u001b[0m\u001b[0;34m\u001b[0m\u001b[0m\n",
            "\u001b[0;32m/usr/local/lib/python3.10/dist-packages/py4j/protocol.py\u001b[0m in \u001b[0;36mget_return_value\u001b[0;34m(answer, gateway_client, target_id, name)\u001b[0m\n\u001b[1;32m    324\u001b[0m             \u001b[0mvalue\u001b[0m \u001b[0;34m=\u001b[0m \u001b[0mOUTPUT_CONVERTER\u001b[0m\u001b[0;34m[\u001b[0m\u001b[0mtype\u001b[0m\u001b[0;34m]\u001b[0m\u001b[0;34m(\u001b[0m\u001b[0manswer\u001b[0m\u001b[0;34m[\u001b[0m\u001b[0;36m2\u001b[0m\u001b[0;34m:\u001b[0m\u001b[0;34m]\u001b[0m\u001b[0;34m,\u001b[0m \u001b[0mgateway_client\u001b[0m\u001b[0;34m)\u001b[0m\u001b[0;34m\u001b[0m\u001b[0;34m\u001b[0m\u001b[0m\n\u001b[1;32m    325\u001b[0m             \u001b[0;32mif\u001b[0m \u001b[0manswer\u001b[0m\u001b[0;34m[\u001b[0m\u001b[0;36m1\u001b[0m\u001b[0;34m]\u001b[0m \u001b[0;34m==\u001b[0m \u001b[0mREFERENCE_TYPE\u001b[0m\u001b[0;34m:\u001b[0m\u001b[0;34m\u001b[0m\u001b[0;34m\u001b[0m\u001b[0m\n\u001b[0;32m--> 326\u001b[0;31m                 raise Py4JJavaError(\n\u001b[0m\u001b[1;32m    327\u001b[0m                     \u001b[0;34m\"An error occurred while calling {0}{1}{2}.\\n\"\u001b[0m\u001b[0;34m.\u001b[0m\u001b[0;34m\u001b[0m\u001b[0;34m\u001b[0m\u001b[0m\n\u001b[1;32m    328\u001b[0m                     format(target_id, \".\", name), value)\n",
            "\u001b[0;31mPy4JJavaError\u001b[0m: An error occurred while calling o25.read.\n: java.lang.IllegalStateException: LiveListenerBus is stopped.\n\tat org.apache.spark.scheduler.LiveListenerBus.addToQueue(LiveListenerBus.scala:92)\n\tat org.apache.spark.scheduler.LiveListenerBus.addToStatusQueue(LiveListenerBus.scala:75)\n\tat org.apache.spark.sql.internal.SharedState.<init>(SharedState.scala:115)\n\tat org.apache.spark.sql.SparkSession.$anonfun$sharedState$1(SparkSession.scala:143)\n\tat scala.Option.getOrElse(Option.scala:189)\n\tat org.apache.spark.sql.SparkSession.sharedState$lzycompute(SparkSession.scala:143)\n\tat org.apache.spark.sql.SparkSession.sharedState(SparkSession.scala:142)\n\tat org.apache.spark.sql.SparkSession.$anonfun$sessionState$2(SparkSession.scala:162)\n\tat scala.Option.getOrElse(Option.scala:189)\n\tat org.apache.spark.sql.SparkSession.sessionState$lzycompute(SparkSession.scala:160)\n\tat org.apache.spark.sql.SparkSession.sessionState(SparkSession.scala:157)\n\tat org.apache.spark.sql.DataFrameReader.<init>(DataFrameReader.scala:699)\n\tat org.apache.spark.sql.SparkSession.read(SparkSession.scala:783)\n\tat java.base/jdk.internal.reflect.NativeMethodAccessorImpl.invoke0(Native Method)\n\tat java.base/jdk.internal.reflect.NativeMethodAccessorImpl.invoke(NativeMethodAccessorImpl.java:62)\n\tat java.base/jdk.internal.reflect.DelegatingMethodAccessorImpl.invoke(DelegatingMethodAccessorImpl.java:43)\n\tat java.base/java.lang.reflect.Method.invoke(Method.java:566)\n\tat py4j.reflection.MethodInvoker.invoke(MethodInvoker.java:244)\n\tat py4j.reflection.ReflectionEngine.invoke(ReflectionEngine.java:374)\n\tat py4j.Gateway.invoke(Gateway.java:282)\n\tat py4j.commands.AbstractCommand.invokeMethod(AbstractCommand.java:132)\n\tat py4j.commands.CallCommand.execute(CallCommand.java:79)\n\tat py4j.ClientServerConnection.waitForCommands(ClientServerConnection.java:182)\n\tat py4j.ClientServerConnection.run(ClientServerConnection.java:106)\n\tat java.base/java.lang.Thread.run(Thread.java:829)\n"
          ]
        }
      ]
    },
    {
      "cell_type": "code",
      "source": [
        "datos.show(5)"
      ],
      "metadata": {
        "colab": {
          "base_uri": "https://localhost:8080/"
        },
        "id": "6bXGdR3IqPDh",
        "outputId": "268bdf4f-6506-4bf9-c991-f9657deb9c99"
      },
      "execution_count": null,
      "outputs": [
        {
          "output_type": "stream",
          "name": "stdout",
          "text": [
            "+--------+--------------------+-------------------+---------+---+-------+---+---+---------+------+---------+------------------+------------+-----------+---------+-----------+-----------+-----------------+------+----+---------+--------+\n",
            "|Diabetes|HipertensionArterial|HiperColesterolemia|CholCheck|IMC|Fumador|ACV|IAM|ActFisica|Frutas|Vegetales|AltoConsumoAlcohol|CoberturaMed|NoDocbcCost|SaludGral|SaludMental|SaludFisica|DificultadCaminar|Genero|Edad|Educacion|Ingresos|\n",
            "+--------+--------------------+-------------------+---------+---+-------+---+---+---------+------+---------+------------------+------------+-----------+---------+-----------+-----------+-----------------+------+----+---------+--------+\n",
            "|       0|                   1|                  1|        1| 40|      1|  0|  0|        0|     0|        1|                 0|           1|          0|        5|         18|         15|                1|     0|   9|        4|       3|\n",
            "|       0|                   0|                  0|        0| 25|      1|  0|  0|        1|     0|        0|                 0|           0|          1|        3|          0|          0|                0|     0|   7|        6|       1|\n",
            "|       0|                   1|                  1|        1| 28|      0|  0|  0|        0|     1|        0|                 0|           1|          1|        5|         30|         30|                1|     0|   9|        4|       8|\n",
            "|       0|                   1|                  0|        1| 27|      0|  0|  0|        1|     1|        1|                 0|           1|          0|        2|          0|          0|                0|     0|  11|        3|       6|\n",
            "|       0|                   1|                  1|        1| 24|      0|  0|  0|        1|     1|        1|                 0|           1|          0|        2|          3|          0|                0|     0|  11|        5|       4|\n",
            "+--------+--------------------+-------------------+---------+---+-------+---+---+---------+------+---------+------------------+------------+-----------+---------+-----------+-----------+-----------------+------+----+---------+--------+\n",
            "only showing top 5 rows\n",
            "\n"
          ]
        }
      ]
    },
    {
      "cell_type": "markdown",
      "source": [
        "Objetivo: crear un sistema de puntajes, que determine que registro cumple con los criterios diagnosticos de Sme. Metabolico:\n",
        "\n",
        "1. Diabetes: 0=nodbt; 1=predbt; 2=dbt\n",
        "2. Hipertensión Arterial: 0=no; 1=si\n",
        "3. Hipercolesterolemia: 0=no; 1=si\n",
        "4. IMC: categorizar. <25 = 0; 25-30 = 1; 30-35 = 2; >35 = 3\n",
        "\n",
        "Los registros que tengan puntaje >= 3 serán considerados con Sme. Metabólico."
      ],
      "metadata": {
        "id": "DdDWcbsdpznX"
      }
    },
    {
      "cell_type": "code",
      "source": [
        "#categorizar la variable IMC\n",
        "datos = datos.withColumn(\"imc_categoria\",\n",
        "                   F.when(F.col(\"imc\") < 25, 0)           #lo cambio a 0 porque no debería sumar 1 punto\n",
        "                   .when((F.col(\"imc\") >= 25) & (F.col(\"imc\") < 30), 1)\n",
        "                   .when((F.col(\"imc\") >= 30) & (F.col(\"imc\") < 35), 2)\n",
        "                   .otherwise(3)\n",
        "                   )"
      ],
      "metadata": {
        "id": "ufCEqr6Cq8iN"
      },
      "execution_count": null,
      "outputs": []
    },
    {
      "cell_type": "code",
      "source": [
        "#castear el resto de las variables de string a int\n",
        "datos = datos.withColumn(\"diabetes_int\", F.col(\"Diabetes\").cast(\"integer\")) \\\n",
        "              .withColumn(\"hta_int\", F.col(\"HipertensionArterial\").cast(\"integer\")) \\\n",
        "              .withColumn(\"hipercol_int\", F.col(\"HiperColesterolemia\").cast(\"integer\"))"
      ],
      "metadata": {
        "id": "mv7q6UI5vWsO"
      },
      "execution_count": null,
      "outputs": []
    },
    {
      "cell_type": "markdown",
      "source": [
        "OBJETIVO 1: Identificar qué registros cumplen con los criterios diagnósticos de SM y etiquetarlos como tal."
      ],
      "metadata": {
        "id": "KRvzWhTO_BiD"
      }
    },
    {
      "cell_type": "code",
      "source": [
        "#PUNTAJE: => 3 = Tiene Sme Metabolico\n",
        "datos = datos.withColumn(\"PUNTAJE\", F.col(\"diabetes_int\") + F.col(\"hta_int\") + F.col(\"hipercol_int\") +\n",
        "                                           F.col(\"imc_categoria\"))"
      ],
      "metadata": {
        "id": "FAJ4J2MhxaFl"
      },
      "execution_count": null,
      "outputs": []
    },
    {
      "cell_type": "code",
      "source": [
        "#Creo variable dicotómica Sme. Metab. 0 = no (puntaje < 3); 1 = si (puntaje >=3)\n",
        "datos = datos.withColumn(\"SmeMetab\", when(datos[\"PUNTAJE\"] >= 3, 1).otherwise(0))"
      ],
      "metadata": {
        "id": "wiOx0HJ1ufe4"
      },
      "execution_count": null,
      "outputs": []
    },
    {
      "cell_type": "markdown",
      "source": [
        "OBJETIVO 2: Determinar la prevalencia del SM en la población estudiada."
      ],
      "metadata": {
        "id": "UL-fQQGbCn_y"
      }
    },
    {
      "cell_type": "code",
      "source": [
        "#determinar la prevalencia de SM en la población:\n",
        "SM = datos.groupBy(\"SmeMetab\").count()\n",
        "SM.show()"
      ],
      "metadata": {
        "colab": {
          "base_uri": "https://localhost:8080/"
        },
        "collapsed": true,
        "id": "rfO1UW2RYD_5",
        "outputId": "c22ab873-6fa3-48c6-92d0-3069bda76d17"
      },
      "execution_count": null,
      "outputs": [
        {
          "output_type": "stream",
          "name": "stdout",
          "text": [
            "+--------+------+\n",
            "|SmeMetab| count|\n",
            "+--------+------+\n",
            "|       1|105665|\n",
            "|       0|148015|\n",
            "+--------+------+\n",
            "\n"
          ]
        }
      ]
    },
    {
      "cell_type": "code",
      "source": [
        "#total de registros\n",
        "total_registros = datos.count()"
      ],
      "metadata": {
        "id": "yTUVK02McrjB"
      },
      "execution_count": null,
      "outputs": []
    },
    {
      "cell_type": "code",
      "source": [
        "# Obtener la cantidad de registros con SM=1\n",
        "registros_SM1 = SM.filter(SM[\"SmeMetab\"] == 1).select(\"count\").collect()[0][0]\n",
        "\n",
        "# Calcular la prevalencia\n",
        "prevalencia_SM = registros_SM1 / total_registros\n",
        "\n",
        "print(\"Prevalencia de SM:\", prevalencia_SM)"
      ],
      "metadata": {
        "colab": {
          "base_uri": "https://localhost:8080/"
        },
        "id": "7yzO_6jjdRv6",
        "outputId": "38823f61-962c-4aab-ff1c-4c4acd3f2b38"
      },
      "execution_count": null,
      "outputs": [
        {
          "output_type": "stream",
          "name": "stdout",
          "text": [
            "Prevalencia de SM: 0.41652869757174393\n"
          ]
        }
      ]
    },
    {
      "cell_type": "markdown",
      "source": [
        "OBJETIVO 3: Analizar los casos con SM según género y edad."
      ],
      "metadata": {
        "id": "tgQjIwzNC3dx"
      }
    },
    {
      "cell_type": "code",
      "source": [
        "# Agrupar por las columnas \"SM\" y \"genero\" y contar los registros\n",
        "gen_datos = datos.groupBy(\"SmeMetab\", \"Genero\").count()\n",
        "\n",
        "#Obtener el número de pacientes con SM=1 y género=0\n",
        "SM1_gen0 = gen_datos.filter((gen_datos[\"SmeMetab\"] == 1) & (gen_datos[\"Genero\"] == 0)).select(\"count\").collect()[0][0]\n",
        "\n",
        "# Obtener el número de pacientes con SM=1 y género=1\n",
        "SM1_gen1 = gen_datos.filter((gen_datos[\"SmeMetab\"] == 1) & (gen_datos[\"Genero\"] == 1)).select(\"count\").collect()[0][0]\n",
        "\n",
        "print(\"Número de pacientes con SM=1 y género=0:\", SM1_gen0)\n",
        "print(\"Número de pacientes con SM=1 y género=1:\", SM1_gen1)"
      ],
      "metadata": {
        "colab": {
          "base_uri": "https://localhost:8080/"
        },
        "collapsed": true,
        "id": "7pg2PU31pWuC",
        "outputId": "1b4ea21e-f862-4e53-bd51-f0bfc90e48a1"
      },
      "execution_count": null,
      "outputs": [
        {
          "output_type": "stream",
          "name": "stdout",
          "text": [
            "Número de pacientes con SM=1 y género=0: 55688\n",
            "Número de pacientes con SM=1 y género=1: 49977\n"
          ]
        }
      ]
    },
    {
      "cell_type": "code",
      "source": [
        "#grafico SM/genero\n",
        "# Crear un DataFrame con los resultados para la visualización\n",
        "resultados = mi_sesion.createDataFrame([\n",
        "    (0, SM1_gen0),\n",
        "    (1, SM1_gen1)\n",
        "], [\"Género\", \"Cantidad\"])\n",
        "\n",
        "# Convertir el DataFrame a un Pandas DataFrame para facilitar la visualización\n",
        "resultados_pd = resultados.toPandas()\n",
        "\n",
        "# Crear un gráfico de barras\n",
        "plt.bar(resultados_pd[\"Género\"], resultados_pd[\"Cantidad\"], color=['pink', 'lightblue'])\n",
        "plt.xlabel(\"Género\")\n",
        "plt.ylabel(\"Cantidad de pacientes con SM\")\n",
        "plt.title(\"Prevalencia de SM por género\")\n",
        "plt.xticks([0, 1], [\"Mujeres\", \"Varones\"])\n",
        "plt.show()"
      ],
      "metadata": {
        "colab": {
          "base_uri": "https://localhost:8080/",
          "height": 472
        },
        "id": "p-FKvZ8Dq449",
        "outputId": "7c9746fb-a77a-4d18-bc22-172a23f3032f"
      },
      "execution_count": null,
      "outputs": [
        {
          "output_type": "display_data",
          "data": {
            "text/plain": [
              "<Figure size 640x480 with 1 Axes>"
            ],
            "image/png": "[encoded data removed]"
          },
          "metadata": {}
        }
      ]
    },
    {
      "cell_type": "code",
      "source": [
        "#edades de pacientes con SM\n",
        "edad_SM = datos.groupBy(\"SmeMetab\", \"Edad\").count()\n",
        "\n",
        "# Filtrar para obtener solo los pacientes con SM=1\n",
        "edad_SM1 = edad_SM.filter(edad_SM[\"SmeMetab\"] == 1)\n",
        "\n",
        "# Mostrar los resultados para verificar\n",
        "edad_SM1.show()\n",
        "\n",
        "#orden\n",
        "edad_SM1 = edad_SM1.orderBy(\"Edad\")\n",
        "\n",
        "# Convertir el DataFrame a un Pandas DataFrame para facilitar la visualización\n",
        "pandas_edad = edad_SM1.toPandas()\n",
        "\n",
        "# Crear un gráfico de barras\n",
        "plt.bar(pandas_edad[\"Edad\"], pandas_edad[\"count\"], color='gray')\n",
        "plt.xlabel(\"Edad\")\n",
        "plt.ylabel(\"Cantidad de pacientes con SM\")\n",
        "plt.title(\"Prevalencia de SM por edades\")\n",
        "plt.xticks(rotation=45)  # Rotar las etiquetas del eje x si es necesario\n",
        "plt.show()"
      ],
      "metadata": {
        "colab": {
          "base_uri": "https://localhost:8080/",
          "height": 792
        },
        "id": "G21Dpnh4t8r2",
        "outputId": "4011370d-e059-4656-d8c7-2cff9a566859"
      },
      "execution_count": null,
      "outputs": [
        {
          "output_type": "stream",
          "name": "stdout",
          "text": [
            "+--------+----+-----+\n",
            "|SmeMetab|Edad|count|\n",
            "+--------+----+-----+\n",
            "|       1|  12| 8218|\n",
            "|       1|   6| 7113|\n",
            "|       1|  11|12538|\n",
            "|       1|   9|15874|\n",
            "|       1|   8|13421|\n",
            "|       1|   7|10415|\n",
            "|       1|  13| 7555|\n",
            "|       1|   3| 2630|\n",
            "|       1|  10|16727|\n",
            "|       1|   1|  754|\n",
            "|       1|   4| 3860|\n",
            "|       1|   5| 5105|\n",
            "|       1|   2| 1455|\n",
            "+--------+----+-----+\n",
            "\n"
          ]
        },
        {
          "output_type": "display_data",
          "data": {
            "text/plain": [
              "<Figure size 640x480 with 1 Axes>"
            ],
            "image/png": "[encoded data removed]"
          },
          "metadata": {}
        }
      ]
    },
    {
      "cell_type": "markdown",
      "source": [
        "OBJETIVO 4: Identificar posibles asociaciones entre SM como Factor de Riesgo y patologías cardiovasculares (ACV - IAM). Calculo de Odds Ratio\n",
        "\n",
        "Filtrar los datos y contabilizarlos.\n",
        "\n",
        "*   A = Expuesto + Enfermo\n",
        "*   B = Expuesto + No enfermo\n",
        "*   C = No expuesto + Enfermo\n",
        "*   D = No expuesto + No enfermo\n",
        "\n",
        "![image.png](data:image/png;base64,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)\n"
      ],
      "metadata": {
        "id": "bD0DkUnLDhvZ"
      }
    },
    {
      "cell_type": "code",
      "source": [
        "datos = datos.withColumn(\"OR_IAM\",\n",
        "                        when((datos.SmeMetab == 1) & (datos.IAM == 1), \"A\")\n",
        "                        .when((datos.SmeMetab == 0) & (datos.IAM == 1), \"C\")\n",
        "                        .when((datos.SmeMetab == 1) & (datos.IAM == 0), \"B\")\n",
        "                        .otherwise(\"D\"))"
      ],
      "metadata": {
        "id": "6CPBZ6OS9VBt"
      },
      "execution_count": null,
      "outputs": []
    },
    {
      "cell_type": "code",
      "source": [
        "datos.show(10)"
      ],
      "metadata": {
        "colab": {
          "base_uri": "https://localhost:8080/"
        },
        "id": "iS9Q47dutwjn",
        "outputId": "c3442df3-c24e-4461-cff2-d8573c89fe0e"
      },
      "execution_count": null,
      "outputs": [
        {
          "output_type": "stream",
          "name": "stdout",
          "text": [
            "+--------+--------------------+-------------------+---------+---+-------+---+---+---------+------+---------+------------------+------------+-----------+---------+-----------+-----------+-----------------+------+----+---------+--------+-------------+------------+-------+------------+-------+--------+------+\n",
            "|Diabetes|HipertensionArterial|HiperColesterolemia|CholCheck|IMC|Fumador|ACV|IAM|ActFisica|Frutas|Vegetales|AltoConsumoAlcohol|CoberturaMed|NoDocbcCost|SaludGral|SaludMental|SaludFisica|DificultadCaminar|Genero|Edad|Educacion|Ingresos|imc_categoria|diabetes_int|hta_int|hipercol_int|PUNTAJE|SmeMetab|OR_IAM|\n",
            "+--------+--------------------+-------------------+---------+---+-------+---+---+---------+------+---------+------------------+------------+-----------+---------+-----------+-----------+-----------------+------+----+---------+--------+-------------+------------+-------+------------+-------+--------+------+\n",
            "|       0|                   1|                  1|        1| 40|      1|  0|  0|        0|     0|        1|                 0|           1|          0|        5|         18|         15|                1|     0|   9|        4|       3|            3|           0|      1|           1|      5|       1|     B|\n",
            "|       0|                   0|                  0|        0| 25|      1|  0|  0|        1|     0|        0|                 0|           0|          1|        3|          0|          0|                0|     0|   7|        6|       1|            1|           0|      0|           0|      1|       0|     D|\n",
            "|       0|                   1|                  1|        1| 28|      0|  0|  0|        0|     1|        0|                 0|           1|          1|        5|         30|         30|                1|     0|   9|        4|       8|            1|           0|      1|           1|      3|       1|     B|\n",
            "|       0|                   1|                  0|        1| 27|      0|  0|  0|        1|     1|        1|                 0|           1|          0|        2|          0|          0|                0|     0|  11|        3|       6|            1|           0|      1|           0|      2|       0|     D|\n",
            "|       0|                   1|                  1|        1| 24|      0|  0|  0|        1|     1|        1|                 0|           1|          0|        2|          3|          0|                0|     0|  11|        5|       4|            0|           0|      1|           1|      2|       0|     D|\n",
            "|       0|                   1|                  1|        1| 25|      1|  0|  0|        1|     1|        1|                 0|           1|          0|        2|          0|          2|                0|     1|  10|        6|       8|            1|           0|      1|           1|      3|       1|     B|\n",
            "|       0|                   1|                  0|        1| 30|      1|  0|  0|        0|     0|        0|                 0|           1|          0|        3|          0|         14|                0|     0|   9|        6|       7|            2|           0|      1|           0|      3|       1|     B|\n",
            "|       0|                   1|                  1|        1| 25|      1|  0|  0|        1|     0|        1|                 0|           1|          0|        3|          0|          0|                1|     0|  11|        4|       4|            1|           0|      1|           1|      3|       1|     B|\n",
            "|       2|                   1|                  1|        1| 30|      1|  0|  1|        0|     1|        1|                 0|           1|          0|        5|         30|         30|                1|     0|   9|        5|       1|            2|           2|      1|           1|      6|       1|     A|\n",
            "|       0|                   0|                  0|        1| 24|      0|  0|  0|        0|     0|        1|                 0|           1|          0|        2|          0|          0|                0|     1|   8|        4|       3|            0|           0|      0|           0|      0|       0|     D|\n",
            "+--------+--------------------+-------------------+---------+---+-------+---+---+---------+------+---------+------------------+------------+-----------+---------+-----------+-----------+-----------------+------+----+---------+--------+-------------+------------+-------+------------+-------+--------+------+\n",
            "only showing top 10 rows\n",
            "\n"
          ]
        }
      ]
    },
    {
      "cell_type": "code",
      "source": [
        "A = datos.filter(datos.OR_IAM == \"A\")\n",
        "B = datos.filter(datos.OR_IAM == \"B\")\n",
        "C = datos.filter(datos.OR_IAM == \"C\")\n",
        "D = datos.filter(datos.OR_IAM == \"D\")"
      ],
      "metadata": {
        "id": "Dqw-Bk1RAx4a"
      },
      "execution_count": null,
      "outputs": []
    },
    {
      "cell_type": "code",
      "source": [
        "A_count = A.count()\n",
        "B_count = B.count()\n",
        "C_count = C.count()\n",
        "D_count = D.count()\n",
        "\n",
        "# Calcular OR\n",
        "OR = (A_count * D_count)/(B_count * C_count)\n"
      ],
      "metadata": {
        "id": "dEQ8fqGWAjyF"
      },
      "execution_count": null,
      "outputs": []
    },
    {
      "cell_type": "code",
      "source": [
        "# Calcular el error estándar (aproximación de Wald)\n",
        "SE_lnOR = np.sqrt(1/A_count + 1/B_count + 1/C_count + 1/D_count)\n",
        "\n",
        "# Calcular el intervalo de confianza\n",
        "z_alpha_2 = norm.ppf(0.975)  # Valor crítico para un intervalo de confianza del 95%\n",
        "CI_lower = np.exp(np.log(OR) - z_alpha_2 * SE_lnOR)\n",
        "CI_upper = np.exp(np.log(OR) + z_alpha_2 * SE_lnOR)\n",
        "\n",
        "print(\"Odds ratio:\", OR)\n",
        "print(\"Intervalo de confianza (95%):\", CI_lower, \"-\", CI_upper)"
      ],
      "metadata": {
        "colab": {
          "base_uri": "https://localhost:8080/"
        },
        "id": "PoxHWyCYyMtQ",
        "outputId": "0a31af13-3d32-4729-cca3-7a1ed8a44169"
      },
      "execution_count": null,
      "outputs": [
        {
          "output_type": "stream",
          "name": "stdout",
          "text": [
            "Odds ratio: 3.5025490604576763\n",
            "Intervalo de confianza (95%): 3.4035828509122696 - 3.604392917194531\n"
          ]
        }
      ]
    },
    {
      "cell_type": "code",
      "source": [
        "datos = datos.withColumn(\"OR_ACV\",\n",
        "                        when((datos.SmeMetab == 1) & (datos.ACV == 1), \"A\")\n",
        "                        .when((datos.SmeMetab == 0) & (datos.ACV == 1), \"C\")\n",
        "                        .when((datos.SmeMetab == 1) & (datos.ACV == 0), \"B\")\n",
        "                        .otherwise(\"D\"))"
      ],
      "metadata": {
        "id": "vbeqZpRFCMeT"
      },
      "execution_count": null,
      "outputs": []
    },
    {
      "cell_type": "code",
      "source": [
        "A = datos.filter(datos.OR_ACV == \"A\")\n",
        "B = datos.filter(datos.OR_ACV == \"B\")\n",
        "C = datos.filter(datos.OR_ACV == \"C\")\n",
        "D = datos.filter(datos.OR_ACV == \"D\")\n",
        "\n",
        "A_count1 = A.count()\n",
        "B_count1 = B.count()\n",
        "C_count1 = C.count()\n",
        "D_count1 = D.count()\n",
        "\n",
        "# Calculate the OR value\n",
        "OR_ACV = (A_count1 * D_count1)/(B_count1 * C_count1)\n",
        "print(OR_ACV)"
      ],
      "metadata": {
        "colab": {
          "base_uri": "https://localhost:8080/"
        },
        "id": "MEp6Epk1CYw5",
        "outputId": "3480061d-d5b0-4acc-f7ec-7b47f8c867dc"
      },
      "execution_count": null,
      "outputs": [
        {
          "output_type": "stream",
          "name": "stdout",
          "text": [
            "2.6717942576499\n"
          ]
        }
      ]
    },
    {
      "cell_type": "code",
      "source": [
        "# Calcular el error estándar (aproximación de Wald)\n",
        "SE_lnOR_ACV = np.sqrt(1/A_count1 + 1/B_count1 + 1/C_count1 + 1/D_count1)\n",
        "\n",
        "# Calcular el intervalo de confianza\n",
        "z_alpha_2 = norm.ppf(0.975)  # Valor crítico para un intervalo de confianza del 95%\n",
        "CI_lower = np.exp(np.log(OR_ACV) - z_alpha_2 * SE_lnOR_ACV)\n",
        "CI_upper = np.exp(np.log(OR_ACV) + z_alpha_2 * SE_lnOR_ACV)\n",
        "\n",
        "print(\"Odds ratio:\", OR_ACV)\n",
        "print(\"Intervalo de confianza (95%):\", CI_lower, \"-\", CI_upper)"
      ],
      "metadata": {
        "colab": {
          "base_uri": "https://localhost:8080/"
        },
        "id": "n22KGl8H-fh2",
        "outputId": "b946a99f-e1e0-4431-9c3e-dacbe1fbe7a4"
      },
      "execution_count": null,
      "outputs": [
        {
          "output_type": "stream",
          "name": "stdout",
          "text": [
            "Odds ratio: 2.6717942576499\n",
            "Intervalo de confianza (95%): 2.563890174174265 - 2.784239600867468\n"
          ]
        }
      ]
    },
    {
      "cell_type": "code",
      "source": [
        "# Creando la nueva columna \"sedentarismo\"\n",
        "datos = datos.withColumn(\"sedentarismo\", F.when(F.col(\"ActFisica\") == 1, 0).otherwise(1))\n"
      ],
      "metadata": {
        "id": "MEpir_Rv40Lu"
      },
      "execution_count": null,
      "outputs": []
    },
    {
      "cell_type": "code",
      "source": [
        "datos = datos.withColumn(\"OR_AF\",\n",
        "                        when((datos.SmeMetab == 1) & (datos.sedentarismo == 1), \"A\")\n",
        "                        .when((datos.SmeMetab == 0) & (datos.sedentarismo == 1), \"B\")\n",
        "                        .when((datos.SmeMetab == 1) & (datos.sedentarismo == 0), \"C\")\n",
        "                        .otherwise(\"D\"))"
      ],
      "metadata": {
        "id": "eVkhaJmd6KNf"
      },
      "execution_count": null,
      "outputs": []
    },
    {
      "cell_type": "code",
      "source": [
        "A = datos.filter(datos.OR_AF == \"A\")\n",
        "B = datos.filter(datos.OR_AF == \"B\")\n",
        "C = datos.filter(datos.OR_AF == \"C\")\n",
        "D = datos.filter(datos.OR_AF == \"D\")\n",
        "\n",
        "A_count2 = A.count()\n",
        "B_count2 = B.count()\n",
        "C_count2 = C.count()\n",
        "D_count2 = D.count()\n",
        "\n",
        "# Calculate the RR value\n",
        "OR_AF = (A_count2 * D_count2)/(B_count2 * C_count2)\n",
        "print(OR_AF)"
      ],
      "metadata": {
        "colab": {
          "base_uri": "https://localhost:8080/"
        },
        "id": "lot2jzJi7OSl",
        "outputId": "247723c2-fe4f-44de-a062-08cb8751bd2e"
      },
      "execution_count": null,
      "outputs": [
        {
          "output_type": "stream",
          "name": "stdout",
          "text": [
            "2.0764125249131946\n"
          ]
        }
      ]
    },
    {
      "cell_type": "code",
      "source": [
        "# Calcular el error estándar (aproximación de Wald)\n",
        "SE_lnOR_AF = np.sqrt(1/A_count2 + 1/B_count2 + 1/C_count2 + 1/D_count2)\n",
        "\n",
        "# Calcular el intervalo de confianza\n",
        "z_alpha_2 = norm.ppf(0.975)  # Valor crítico para un intervalo de confianza del 95%\n",
        "CI_lower = np.exp(np.log(OR_AF) - z_alpha_2 * SE_lnOR_AF)\n",
        "CI_upper = np.exp(np.log(OR_AF) + z_alpha_2 * SE_lnOR_AF)\n",
        "\n",
        "print(\"Odds ratio:\", OR_AF)\n",
        "print(\"Intervalo de confianza (95%):\", CI_lower, \"-\", CI_upper)"
      ],
      "metadata": {
        "colab": {
          "base_uri": "https://localhost:8080/"
        },
        "id": "z2OSpqWvKETz",
        "outputId": "32fe1bfa-98c6-4816-cb6b-0fc21b1295ec"
      },
      "execution_count": null,
      "outputs": [
        {
          "output_type": "stream",
          "name": "stdout",
          "text": [
            "Odds ratio: 2.0764125249131946\n",
            "Intervalo de confianza (95%): 2.0386331149975785 - 2.1148920528652893\n"
          ]
        }
      ]
    }
  ]
}